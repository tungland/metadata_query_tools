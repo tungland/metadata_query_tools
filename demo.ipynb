{
 "cells": [
  {
   "cell_type": "code",
   "execution_count": 4,
   "metadata": {},
   "outputs": [],
   "source": [
    "from metadata_query_tool import metadata_query, metadata_from_urn "
   ]
  },
  {
   "attachments": {},
   "cell_type": "markdown",
   "metadata": {},
   "source": [
    "`metadata_query` tar en liste med tupler, der hver tuppel en MARC 21 delfelt"
   ]
  },
  {
   "cell_type": "code",
   "execution_count": 8,
   "metadata": {},
   "outputs": [
    {
     "data": {
      "text/plain": [
       "['URN:NBN:no-nb_digibok_2012030706001',\n",
       " 'URN:NBN:no-nb_digibok_2010011312011',\n",
       " 'URN:NBN:no-nb_digibok_2016092809001',\n",
       " 'URN:NBN:no-nb_digibok_2016022309113',\n",
       " 'URN:NBN:no-nb_digibok_2010071323003']"
      ]
     },
     "execution_count": 8,
     "metadata": {},
     "output_type": "execute_result"
    }
   ],
   "source": [
    "urns = metadata_query(\n",
    "    [\n",
    "        (\"100\", \"a\", \"Ibsen\"),\n",
    "        (\"100\", \"d\", \"1828\"),\n",
    "        (\"008\", \"\", \"nob\")\n",
    "        ],\n",
    "    limit=5\n",
    "                    )\n",
    "urns"
   ]
  },
  {
   "attachments": {},
   "cell_type": "markdown",
   "metadata": {},
   "source": [
    "`metadata_from_urn` tar en liste med URNer, og returnerer MARC 21 metadata i json-format"
   ]
  },
  {
   "cell_type": "code",
   "execution_count": 9,
   "metadata": {},
   "outputs": [
    {
     "data": {
      "text/plain": [
       "[{'fields': [{'100': {'ind1': '1',\n",
       "     'ind2': ' ',\n",
       "     'subfields': [{'a': 'Ibsen, Henrik'},\n",
       "      {'d': '1828-1906'},\n",
       "      {'0': '(NO-TrBIB)90061718'}]}},\n",
       "   {'245': {'ind1': '1',\n",
       "     'ind2': '0',\n",
       "     'subfields': [{'a': 'Henrik Ibsens skrifter'},\n",
       "      {'n': '1'},\n",
       "      {'p': 'Catilina (1850) ; Catilina (1875) ; Kjæmpehøien (1850) ; Kjæmpehøien (1854) ; Norma ; Sancthansnatten'},\n",
       "      {'n': '1K'},\n",
       "      {'p': 'Innledninger og kommentarer'},\n",
       "      {'c': '[det redaksjonelle arbeidet er utført av: Vigdis Ystad, Asbjørn Aarseth]'}]}},\n",
       "   {'260': {'ind1': ' ',\n",
       "     'ind2': ' ',\n",
       "     'subfields': [{'a': 'Oslo'},\n",
       "      {'b': '[Universitetet i Oslo]'},\n",
       "      {'c': '2005'}]}}]},\n",
       " {'fields': [{'100': {'ind1': '1',\n",
       "     'ind2': ' ',\n",
       "     'subfields': [{'a': 'Ibsen, Henrik'},\n",
       "      {'d': '1828-1906'},\n",
       "      {'0': '(NO-TrBIB)90061718'}]}},\n",
       "   {'245': {'ind1': '1',\n",
       "     'ind2': '0',\n",
       "     'subfields': [{'a': 'Sang ianledning Hr. Skibsfører Jan Andersens og Jomfru M.B. Campbells Bryllupsfest den 25de September 1856'},\n",
       "      {'c': 'forfattet til Brylluppet af Henrik Ibsen'}]}},\n",
       "   {'260': {'ind1': ' ',\n",
       "     'ind2': ' ',\n",
       "     'subfields': [{'a': '[S.l.]'}, {'b': '[s.n.]'}, {'c': '[1856]'}]}}]},\n",
       " {'fields': [{'100': {'ind1': '1',\n",
       "     'ind2': ' ',\n",
       "     'subfields': [{'a': 'Ibsen, Henrik'},\n",
       "      {'d': '1828-1906'},\n",
       "      {'0': '(NO-TrBIB)90061718'},\n",
       "      {'4': 'aut'}]}},\n",
       "   {'245': {'ind1': '1',\n",
       "     'ind2': '0',\n",
       "     'subfields': [{'a': 'Gjengangere :'},\n",
       "      {'b': 'et familiedrama i tre akter (1881)'},\n",
       "      {'c': 'av Henrik Ibsen'}]}},\n",
       "   {'260': {'ind1': ' ',\n",
       "     'ind2': ' ',\n",
       "     'subfields': [{'a': '[Oslo]'}, {'b': 'Riksteatret'}, {'c': '2005'}]}}]},\n",
       " {'fields': [{'100': {'ind1': '1',\n",
       "     'ind2': ' ',\n",
       "     'subfields': [{'a': 'Ibsen, Henrik'},\n",
       "      {'d': '1828-1906'},\n",
       "      {'0': '(NO-TrBIB)90061718'},\n",
       "      {'4': 'aut'}]}},\n",
       "   {'245': {'ind1': '1',\n",
       "     'ind2': '3',\n",
       "     'subfields': [{'a': 'En folkefiende :'},\n",
       "      {'b': 'skuespill i fem akter'},\n",
       "      {'c': 'av Henrik Ibsen ; bearbeidet av Terje Mærli'}]}},\n",
       "   {'260': {'ind1': ' ',\n",
       "     'ind2': ' ',\n",
       "     'subfields': [{'a': '[Bergen]'},\n",
       "      {'b': 'Den nationale scene'},\n",
       "      {'c': '2001'}]}}]},\n",
       " {'fields': [{'100': {'ind1': '1',\n",
       "     'ind2': ' ',\n",
       "     'subfields': [{'a': 'Ibsen, Henrik'},\n",
       "      {'d': '1828-1906'},\n",
       "      {'0': '(NO-TrBIB)90061718'}]}},\n",
       "   {'245': {'ind1': '1',\n",
       "     'ind2': '0',\n",
       "     'subfields': [{'a': 'Samlede digterverker'},\n",
       "      {'n': '3'},\n",
       "      {'p': 'De unges forbund ; Kejser og galilæer'}]}},\n",
       "   {'260': {'ind1': ' ',\n",
       "     'ind2': ' ',\n",
       "     'subfields': [{'a': 'Oslo'}, {'b': 'Gyldendal'}, {'c': '1937'}]}}]}]"
      ]
     },
     "execution_count": 9,
     "metadata": {},
     "output_type": "execute_result"
    }
   ],
   "source": [
    "metadata_from_urn(urns, fields=[\"245\", \"100\", \"008\"])"
   ]
  },
  {
   "cell_type": "code",
   "execution_count": null,
   "metadata": {},
   "outputs": [],
   "source": []
  }
 ],
 "metadata": {
  "kernelspec": {
   "display_name": "mongodbwrapper",
   "language": "python",
   "name": "python3"
  },
  "language_info": {
   "codemirror_mode": {
    "name": "ipython",
    "version": 3
   },
   "file_extension": ".py",
   "mimetype": "text/x-python",
   "name": "python",
   "nbconvert_exporter": "python",
   "pygments_lexer": "ipython3",
   "version": "3.10.8"
  },
  "orig_nbformat": 4,
  "vscode": {
   "interpreter": {
    "hash": "5e526dea86fbf7d3b7e71cb87f741cea635429c0f46bc3ef008e532544d71244"
   }
  }
 },
 "nbformat": 4,
 "nbformat_minor": 2
}
