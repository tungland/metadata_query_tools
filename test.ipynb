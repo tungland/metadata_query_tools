{
 "cells": [
  {
   "cell_type": "code",
   "execution_count": 1,
   "metadata": {},
   "outputs": [
    {
     "ename": "ModuleNotFoundError",
     "evalue": "No module named 'query_tuple'",
     "output_type": "error",
     "traceback": [
      "\u001b[0;31m---------------------------------------------------------------------------\u001b[0m",
      "\u001b[0;31mModuleNotFoundError\u001b[0m                       Traceback (most recent call last)",
      "Cell \u001b[0;32mIn [1], line 1\u001b[0m\n\u001b[0;32m----> 1\u001b[0m \u001b[39mfrom\u001b[39;00m \u001b[39mquery_tuple\u001b[39;00m \u001b[39mimport\u001b[39;00m query\n",
      "\u001b[0;31mModuleNotFoundError\u001b[0m: No module named 'query_tuple'"
     ]
    }
   ],
   "source": [
    "from query_tuple import query"
   ]
  }
 ],
 "metadata": {
  "kernelspec": {
   "display_name": "mongodbwrapper",
   "language": "python",
   "name": "python3"
  },
  "language_info": {
   "codemirror_mode": {
    "name": "ipython",
    "version": 3
   },
   "file_extension": ".py",
   "mimetype": "text/x-python",
   "name": "python",
   "nbconvert_exporter": "python",
   "pygments_lexer": "ipython3",
   "version": "3.10.8"
  },
  "orig_nbformat": 4,
  "vscode": {
   "interpreter": {
    "hash": "5e526dea86fbf7d3b7e71cb87f741cea635429c0f46bc3ef008e532544d71244"
   }
  }
 },
 "nbformat": 4,
 "nbformat_minor": 2
}
